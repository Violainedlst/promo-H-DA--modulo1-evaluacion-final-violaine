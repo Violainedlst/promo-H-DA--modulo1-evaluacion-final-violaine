{
 "cells": [
  {
   "cell_type": "code",
   "execution_count": 1,
   "metadata": {},
   "outputs": [],
   "source": [
    "class TiendaOnline:\n",
    "\n",
    "    def __init__(self,inventario = [],clientes = {},ventas_totales = 0.0):\n",
    "        self.inventario = inventario\n",
    "        self.clientes = clientes\n",
    "        self.ventas_totales = ventas_totales\n",
    "\n",
    "    def agregar_producto(self,nombre,precio,cantidad):\n",
    "        for producto in self.inventario:\n",
    "            if producto[\"nombre\"].lower() == nombre.lower(): #verifica si el nombre de mi producto ya es presente dentro de mi inventario\n",
    "                producto[\"cantidad\"] += cantidad #añadir la nueva cantidad del producto ya existante\n",
    "                return(f\"la cantidad actualizada de {nombre} en el inventario es de {cantidad}\") \n",
    "            else:\n",
    "                nuevo_articulo = {\"nombre\":nombre, \"precio\": precio, \"cantidad\":cantidad}\n",
    "                self.inventario.append(nuevo_articulo)\n",
    "                return(f\"Tienes actualmente el nuevo producto, {nombre}, cuesta {precio}€ y tienes un stock de {cantidad}\") \n",
    "\n",
    "    def ver_inventario(self):\n",
    "        for producto in self.inventario:\n",
    "            print(f\"Nombre: {producto['nombre']}, Precio: {producto['precio']}€, Cantidad: {producto['cantidad']}\") \n",
    "            #el dicc es para para buscar el valor de mi llave nombre...\n",
    "\n",
    "    def buscar_producto(self,nombre):\n",
    "        for producto in self.inventario:\n",
    "            if producto[\"nombre\"].lower() == nombre.lower():\n",
    "                return (f\"Nombre: {producto['nombre']}, Precio: {producto['precio']}€, Cantidad: {producto['cantidad']}\") \n",
    "            #hago un return y no un print para devolver el valor actual y no simplemente imprimir la frase escrita\n",
    "        \n",
    "        return(\"Actualmente no tenemos este producto en nuestro inventario\")\n",
    "    #no he hecho un else porque sino va a recorrer todo mi listado y devolverme todas las veces que no lo ha encontrado, \n",
    "    #comparando camisa con bragas por ejemplo, tendria 3 veces que no hay braga\n",
    "\n",
    "    def actualizar_stock(self,nombre,cantidad):\n",
    "        for producto in self.inventario:\n",
    "            if producto[\"nombre\"].lower() == nombre.lower():\n",
    "                producto[\"cantidad\"] += cantidad\n",
    "                return f\"La cantidad actualizada de su {nombre} es {producto['cantidad']}\" #pongo un return sino va al return siguiente y me imprime que no tiene producto aunque lo tenga\n",
    "        return (\"Actualmente no tenemos este producto en nuestro inventario\")\n",
    "    \n",
    "    def eliminar_producto(self,nombre):\n",
    "        for producto in self.inventario:\n",
    "            if producto[\"nombre\"].lower() == nombre.lower():\n",
    "                self.inventario.remove(producto)\n",
    "                return f\"El producto {nombre} ha sido eliminado\"\n",
    "        return (\"Este producto no esta actualmente en su inventario\")\n",
    "    \n",
    "    def calcular_valor_inventario(self):\n",
    "        valor_total = 0 #empezamos desde cero para poder añadirle el valor de cada producto luego\n",
    "        for producto in self.inventario:\n",
    "            valor_total_producto = producto[\"cantidad\"] * producto[\"precio\"] #esto es la multiplicacion de la cantidad y el precio producto por producto\n",
    "            valor_total += valor_total_producto #sumamos el valor inicial con el valor de cada producto y luego el bucle vuelve a empezar al inicio del precio del ultimo producto añadido\n",
    "        return valor_total\n",
    "    \n",
    "    def realizar_compra(self):\n",
    "        carrito = []\n",
    "        total_carrito = 0\n",
    "        purchase = True #le pongo el true para que no pare hasta que le diga yo false\n",
    "\n",
    "        while purchase is True: #llamo al True para que no pare de funcionar\n",
    "            self.ver_inventario() #llamo a mi funcion de ver inventario\n",
    "            peticion_producto_comprado = input(\"Cual es el nombre del producto que quiere comprar?\")\n",
    "            cantidad_producto_comprado = int(input(f\"Que cantidad de {peticion_producto_comprado} quieres comprar?\"))\n",
    "            producto_comprado = {}\n",
    "\n",
    "            for producto in self.inventario: #este for es para buscar el producto dentro del inventario\n",
    "                if producto[\"nombre\"].lower() == peticion_producto_comprado.lower():\n",
    "                    producto_comprado = producto\n",
    "                    break #como ya he encontrado mi producto, paro el bucle de busqueda del producto de mi usuario\n",
    "            \n",
    "            if producto_comprado == {}: #esto es porque no ha encontrado el nombre de peticion_producto_comprado dentro de mi inventario\n",
    "                print(\"No tenemos este producto actualmente en nuestro inventario\")\n",
    "                continue  #le pongo un continue para que vuelva a pedirle otro nombre para seguir comprando\n",
    "\n",
    "            if producto_comprado['cantidad'] < cantidad_producto_comprado:\n",
    "                print(f\"Solamente tenemos {producto['cantidad']} en nuestro inventario, actualiza tu petición\")\n",
    "                continue #hago un continue para que pueda volver a añadir una cantidad menor a la cantidad de mi inventario\n",
    "\n",
    "            carrito.append(producto_comprado)\n",
    "            self.actualizar_stock(peticion_producto_comprado,cantidad_producto_comprado) \n",
    "            precio_compra_actual = cantidad_producto_comprado * producto_comprado[\"precio\"] \n",
    "            total_carrito += precio_compra_actual #como he empezado a 0, voy añadiendo el precio * cantidad de cada producto en mi carrito\n",
    "            \n",
    "            seguir_comprando = input(\"Quieres hacer otra compra?\")\n",
    "            if seguir_comprando.lower() == \"no\": \n",
    "                purchase = False#ahora le estoy diciendo que como no quiere comprar mas, el while se para y imprimo cuanto tiene que pagar\n",
    "\n",
    "        print(f\"El precio total de su carrito es de {total_carrito}€.\")\n",
    "            "
   ]
  },
  {
   "cell_type": "code",
   "execution_count": 2,
   "metadata": {},
   "outputs": [],
   "source": [
    "inventario = [{'nombre': 'camisa', 'precio': 20, 'cantidad': 40},\n",
    "{'nombre': 'Pantalón', 'precio': 30, 'cantidad': 30}]"
   ]
  },
  {
   "cell_type": "code",
   "execution_count": 3,
   "metadata": {},
   "outputs": [
    {
     "data": {
      "text/plain": [
       "'Tienes actualmente el nuevo producto, gorro, cuesta 80€ y tienes un stock de 1'"
      ]
     },
     "execution_count": 3,
     "metadata": {},
     "output_type": "execute_result"
    }
   ],
   "source": [
    "tienda = TiendaOnline(inventario,{})\n",
    "tienda.agregar_producto(\"gorro\",80,1)"
   ]
  },
  {
   "cell_type": "code",
   "execution_count": 4,
   "metadata": {},
   "outputs": [
    {
     "name": "stdout",
     "output_type": "stream",
     "text": [
      "Nombre: camisa, Precio: 20€, Cantidad: 40\n",
      "Nombre: Pantalón, Precio: 30€, Cantidad: 30\n",
      "Nombre: gorro, Precio: 80€, Cantidad: 1\n"
     ]
    }
   ],
   "source": [
    "tienda2 = TiendaOnline(inventario,{})\n",
    "tienda2.ver_inventario()"
   ]
  },
  {
   "cell_type": "code",
   "execution_count": 5,
   "metadata": {},
   "outputs": [
    {
     "name": "stdout",
     "output_type": "stream",
     "text": [
      "Actualmente no tenemos este producto en nuestro inventario\n"
     ]
    }
   ],
   "source": [
    "tienda3 = TiendaOnline(inventario,{})\n",
    "print(tienda3.buscar_producto(\"braga\"))"
   ]
  },
  {
   "cell_type": "code",
   "execution_count": 6,
   "metadata": {},
   "outputs": [
    {
     "name": "stdout",
     "output_type": "stream",
     "text": [
      "La cantidad actualizada de su camisa es 45\n"
     ]
    },
    {
     "data": {
      "text/plain": [
       "[{'nombre': 'camisa', 'precio': 20, 'cantidad': 45},\n",
       " {'nombre': 'Pantalón', 'precio': 30, 'cantidad': 30},\n",
       " {'nombre': 'gorro', 'precio': 80, 'cantidad': 1}]"
      ]
     },
     "execution_count": 6,
     "metadata": {},
     "output_type": "execute_result"
    }
   ],
   "source": [
    "tienda4 = TiendaOnline(inventario,{})\n",
    "print(tienda.actualizar_stock(\"camisa\",5))\n",
    "tienda.inventario"
   ]
  },
  {
   "cell_type": "code",
   "execution_count": 7,
   "metadata": {},
   "outputs": [
    {
     "data": {
      "text/plain": [
       "'El producto gorro ha sido eliminado'"
      ]
     },
     "execution_count": 7,
     "metadata": {},
     "output_type": "execute_result"
    }
   ],
   "source": [
    "tienda5 = TiendaOnline(inventario,{})\n",
    "tienda.eliminar_producto(\"gorro\")"
   ]
  },
  {
   "cell_type": "code",
   "execution_count": 8,
   "metadata": {},
   "outputs": [
    {
     "name": "stdout",
     "output_type": "stream",
     "text": [
      "Nombre: camisa, Precio: 20€, Cantidad: 45\n",
      "Nombre: Pantalón, Precio: 30€, Cantidad: 30\n"
     ]
    }
   ],
   "source": [
    "tienda6 = TiendaOnline(inventario,{})\n",
    "tienda.ver_inventario()"
   ]
  },
  {
   "cell_type": "code",
   "execution_count": 9,
   "metadata": {},
   "outputs": [
    {
     "data": {
      "text/plain": [
       "1800"
      ]
     },
     "execution_count": 9,
     "metadata": {},
     "output_type": "execute_result"
    }
   ],
   "source": [
    "tienda7 = TiendaOnline(inventario,{})\n",
    "tienda.calcular_valor_inventario()"
   ]
  },
  {
   "cell_type": "code",
   "execution_count": 10,
   "metadata": {},
   "outputs": [
    {
     "name": "stdout",
     "output_type": "stream",
     "text": [
      "Nombre: camisa, Precio: 20€, Cantidad: 45\n",
      "Nombre: Pantalón, Precio: 30€, Cantidad: 30\n",
      "Nombre: camisa, Precio: 20€, Cantidad: 50\n",
      "Nombre: Pantalón, Precio: 30€, Cantidad: 30\n",
      "El precio total de su carrito es de 400€.\n"
     ]
    }
   ],
   "source": [
    "tienda8 = TiendaOnline(inventario,{})\n",
    "tienda.realizar_compra()"
   ]
  },
  {
   "cell_type": "code",
   "execution_count": null,
   "metadata": {},
   "outputs": [],
   "source": []
  },
  {
   "cell_type": "code",
   "execution_count": null,
   "metadata": {},
   "outputs": [],
   "source": []
  },
  {
   "cell_type": "code",
   "execution_count": null,
   "metadata": {},
   "outputs": [],
   "source": []
  },
  {
   "cell_type": "code",
   "execution_count": null,
   "metadata": {},
   "outputs": [],
   "source": []
  },
  {
   "cell_type": "code",
   "execution_count": null,
   "metadata": {},
   "outputs": [],
   "source": []
  },
  {
   "cell_type": "code",
   "execution_count": null,
   "metadata": {},
   "outputs": [],
   "source": []
  },
  {
   "cell_type": "code",
   "execution_count": null,
   "metadata": {},
   "outputs": [],
   "source": []
  }
 ],
 "metadata": {
  "kernelspec": {
   "display_name": "Python 3",
   "language": "python",
   "name": "python3"
  },
  "language_info": {
   "codemirror_mode": {
    "name": "ipython",
    "version": 3
   },
   "file_extension": ".py",
   "mimetype": "text/x-python",
   "name": "python",
   "nbconvert_exporter": "python",
   "pygments_lexer": "ipython3",
   "version": "3.10.12"
  }
 },
 "nbformat": 4,
 "nbformat_minor": 2
}
